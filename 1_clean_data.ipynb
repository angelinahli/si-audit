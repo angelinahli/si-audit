{
 "cells": [
  {
   "cell_type": "markdown",
   "metadata": {},
   "source": [
    "# Technical Audit of Sentience Institute Study\n",
    "## Part 1: Clean Data\n",
    "\n",
    "### Purpose\n",
    "* Evaluate the accuracy of the figures in this study\n",
    "* Evaluate the methodology for reasonableness\n",
    "* Evaluate whether the conclusions of this study match the data\n",
    "* Consider whether this dataset is useful for further research purposes\n",
    "\n",
    "### Data Description\n",
    "* Population: US Adults\n",
    "* Sample: 1,094 people, census-balanced based on age, sex, region, ethnicity, and income.\n",
    "    * *Note: which census? How does Ipsos do census-balancing?*\n",
    "    * Excludes individuals who failed the awareness check - 46.3% of people passed.\n",
    "        * I wonder whether selecting based on attention biases the results?\n",
    "    \n",
    "### Main Findings\n",
    "1. **54%** of US adults say they are “currently trying to **consume fewer animal-based foods** (meat, dairy, and/or eggs) **and more plant-based foods** (fruits, grains, beans, and/or vegetables).”\n",
    "2. **97%** of US adults agree “Whether to eat animals or be vegetarian is a **personal choice**, and nobody has the right to tell me which one they think I should do.”\n",
    "3. **49%** of US adults support a **ban on factory farming**\n",
    "4. **47%** support a **ban on slaughterhouses**\n",
    "5. **33%** support a **ban on animal farming**\n",
    "6. **58%** of US adults think “most farmed animals are **treated well**”\n",
    "7. **75%** of US adults say they usually buy animal products “**from animals that are treated humanely**”"
   ]
  },
  {
   "cell_type": "code",
   "execution_count": 1,
   "metadata": {},
   "outputs": [],
   "source": [
    "import numpy as np\n",
    "import pandas as pd\n",
    "import seaborn as sb\n",
    "\n",
    "from openpyxl import load_workbook\n",
    "from openpyxl.utils import get_column_interval"
   ]
  },
  {
   "cell_type": "code",
   "execution_count": 2,
   "metadata": {},
   "outputs": [],
   "source": [
    "import os\n",
    "import re\n",
    "from collections import Counter"
   ]
  },
  {
   "cell_type": "code",
   "execution_count": 3,
   "metadata": {},
   "outputs": [],
   "source": [
    "data_dir = \"data\"\n",
    "input_data = os.path.join(data_dir, \"Animal Farming Attitudes Survey Data.xlsx\")\n",
    "\n",
    "def get_excel_range(filename, sheet_name, sheet_range):\n",
    "    \"\"\"\n",
    "    FN suggested here: https://stackoverflow.com/questions/43327975/how-can-i-\n",
    "    read-a-rangea5b10-and-place-these-values-into-a-dataframe-using-o\n",
    "    \"\"\"\n",
    "    wb = load_workbook(filename=filename, read_only=True)\n",
    "    ws = wb[sheet_name]\n",
    "    \n",
    "    sheet_range = re.sub(\"\\s\", \"\", sheet_range)\n",
    "    ws_range = ws[sheet_range]\n",
    "    header = [cell.value for cell in ws_range[0]]\n",
    "    rows = [ [cell.value for cell in row] for row in ws_range[1:] ]\n",
    "    \n",
    "    return pd.DataFrame(rows, columns=header)"
   ]
  },
  {
   "cell_type": "markdown",
   "metadata": {},
   "source": [
    "#### 1. Clean Raw Dataset"
   ]
  },
  {
   "cell_type": "code",
   "execution_count": 4,
   "metadata": {},
   "outputs": [
    {
     "data": {
      "text/html": [
       "<div>\n",
       "<style scoped>\n",
       "    .dataframe tbody tr th:only-of-type {\n",
       "        vertical-align: middle;\n",
       "    }\n",
       "\n",
       "    .dataframe tbody tr th {\n",
       "        vertical-align: top;\n",
       "    }\n",
       "\n",
       "    .dataframe thead th {\n",
       "        text-align: right;\n",
       "    }\n",
       "</style>\n",
       "<table border=\"1\" class=\"dataframe\">\n",
       "  <thead>\n",
       "    <tr style=\"text-align: right;\">\n",
       "      <th></th>\n",
       "      <th>Run</th>\n",
       "      <th>Program Version</th>\n",
       "      <th>Time Started</th>\n",
       "      <th>Minutes Spent</th>\n",
       "      <th>Points</th>\n",
       "      <th>numberOfQuestions</th>\n",
       "      <th>increment</th>\n",
       "      <th>progress</th>\n",
       "      <th>Position</th>\n",
       "      <th>otx_id_1</th>\n",
       "      <th>...</th>\n",
       "      <th>I support a ban on slaughterhouses. (a20sbox)</th>\n",
       "      <th>I support a ban on animal farming. (8mjexdf)</th>\n",
       "      <th>Suppose you were given $10 and allowed to donate any amount of it to an effective non-profit organization that works to help farmed animals, keeping the rest for yourself. How much of this $10 would you donate? (sbzmhrb)</th>\n",
       "      <th>Suppose a public demonstration against the problems of factory farming occurred near where you live and your friend asked you to come demonstrate with her. If this demonstration fit into your schedule, how likely would you be to join and help demonstrate? (yrd9ug1)</th>\n",
       "      <th>When these foods are the same price as animal-based foods, people should eat more of these foods and fewer animal-based foods. (5yfiuvk)</th>\n",
       "      <th>When these foods are the same price as animal-based foods, I would prefer to eat more of these foods and fewer animal-based foods. (g9j5zwx)</th>\n",
       "      <th>When these foods are the same price as animal-based foods, people should eat more of these foods and fewer animal-based foods. (nawdq1n)</th>\n",
       "      <th>When these foods are the same price as animal-based foods, I would prefer to eat more of these foods and fewer animal-based foods. (88inyp8)</th>\n",
       "      <th>Most farmed animals are treated well. For example, the animals are given enough space and kept in good health. (1uaomy1)</th>\n",
       "      <th>The animal-based foods I purchase (meat, dairy, and/or eggs) usually come from animals that are treated humanely. For example, the animals are given enough space and kept in good health. (drd18km)</th>\n",
       "    </tr>\n",
       "  </thead>\n",
       "  <tbody>\n",
       "    <tr>\n",
       "      <th>0</th>\n",
       "      <td>2891666.0</td>\n",
       "      <td>8.0</td>\n",
       "      <td>2017-10-06 23:53:40</td>\n",
       "      <td>3.97</td>\n",
       "      <td>0.0</td>\n",
       "      <td>18.0</td>\n",
       "      <td>0.055556</td>\n",
       "      <td>1.0</td>\n",
       "      <td>arutyo6</td>\n",
       "      <td>501854929.0</td>\n",
       "      <td>...</td>\n",
       "      <td>Disagree</td>\n",
       "      <td>Disagree</td>\n",
       "      <td>10</td>\n",
       "      <td>Somewhat likely</td>\n",
       "      <td>Somewhat disagree</td>\n",
       "      <td>Somewhat disagree</td>\n",
       "      <td>Strongly disagree</td>\n",
       "      <td>Strongly disagree</td>\n",
       "      <td>Somewhat agree</td>\n",
       "      <td>No opinion</td>\n",
       "    </tr>\n",
       "    <tr>\n",
       "      <th>1</th>\n",
       "      <td>2891675.0</td>\n",
       "      <td>8.0</td>\n",
       "      <td>2017-10-07 00:01:52</td>\n",
       "      <td>7.02</td>\n",
       "      <td>0.0</td>\n",
       "      <td>18.0</td>\n",
       "      <td>0.055556</td>\n",
       "      <td>1.0</td>\n",
       "      <td>arutyo6</td>\n",
       "      <td>501854985.0</td>\n",
       "      <td>...</td>\n",
       "      <td>Strongly disagree</td>\n",
       "      <td>Strongly disagree</td>\n",
       "      <td>5</td>\n",
       "      <td>Very unlikely</td>\n",
       "      <td>Agree</td>\n",
       "      <td>Strongly agree</td>\n",
       "      <td>Strongly agree</td>\n",
       "      <td>Strongly agree</td>\n",
       "      <td>Agree</td>\n",
       "      <td>No opinion</td>\n",
       "    </tr>\n",
       "    <tr>\n",
       "      <th>2</th>\n",
       "      <td>2891670.0</td>\n",
       "      <td>8.0</td>\n",
       "      <td>2017-10-06 23:59:43</td>\n",
       "      <td>1.52</td>\n",
       "      <td>0.0</td>\n",
       "      <td>18.0</td>\n",
       "      <td>0.055556</td>\n",
       "      <td>1.0</td>\n",
       "      <td>arutyo6</td>\n",
       "      <td>501855036.0</td>\n",
       "      <td>...</td>\n",
       "      <td>Somewhat agree</td>\n",
       "      <td>Somewhat disagree</td>\n",
       "      <td>3</td>\n",
       "      <td>Very likely</td>\n",
       "      <td>Somewhat agree</td>\n",
       "      <td>Somewhat agree</td>\n",
       "      <td>Somewhat disagree</td>\n",
       "      <td>Disagree</td>\n",
       "      <td>Strongly disagree</td>\n",
       "      <td>Somewhat disagree</td>\n",
       "    </tr>\n",
       "    <tr>\n",
       "      <th>3</th>\n",
       "      <td>2891681.0</td>\n",
       "      <td>8.0</td>\n",
       "      <td>2017-10-07 00:07:28</td>\n",
       "      <td>3.62</td>\n",
       "      <td>0.0</td>\n",
       "      <td>18.0</td>\n",
       "      <td>0.055556</td>\n",
       "      <td>1.0</td>\n",
       "      <td>arutyo6</td>\n",
       "      <td>501855307.0</td>\n",
       "      <td>...</td>\n",
       "      <td>No opinion</td>\n",
       "      <td>Strongly disagree</td>\n",
       "      <td>10</td>\n",
       "      <td>Somewhat likely</td>\n",
       "      <td>Somewhat agree</td>\n",
       "      <td>Somewhat agree</td>\n",
       "      <td>Somewhat agree</td>\n",
       "      <td>Somewhat agree</td>\n",
       "      <td>Somewhat disagree</td>\n",
       "      <td>Somewhat disagree</td>\n",
       "    </tr>\n",
       "    <tr>\n",
       "      <th>4</th>\n",
       "      <td>2891716.0</td>\n",
       "      <td>8.0</td>\n",
       "      <td>2017-10-07 00:19:02</td>\n",
       "      <td>4.50</td>\n",
       "      <td>0.0</td>\n",
       "      <td>18.0</td>\n",
       "      <td>0.055556</td>\n",
       "      <td>1.0</td>\n",
       "      <td>arutyo6</td>\n",
       "      <td>501855695.0</td>\n",
       "      <td>...</td>\n",
       "      <td>Disagree</td>\n",
       "      <td>Disagree</td>\n",
       "      <td>0</td>\n",
       "      <td>Very unlikely</td>\n",
       "      <td>Disagree</td>\n",
       "      <td>Strongly disagree</td>\n",
       "      <td>Disagree</td>\n",
       "      <td>Strongly disagree</td>\n",
       "      <td>Agree</td>\n",
       "      <td>Agree</td>\n",
       "    </tr>\n",
       "  </tbody>\n",
       "</table>\n",
       "<p>5 rows × 34 columns</p>\n",
       "</div>"
      ],
      "text/plain": [
       "         Run  Program Version        Time Started  Minutes Spent  Points  \\\n",
       "0  2891666.0              8.0 2017-10-06 23:53:40           3.97     0.0   \n",
       "1  2891675.0              8.0 2017-10-07 00:01:52           7.02     0.0   \n",
       "2  2891670.0              8.0 2017-10-06 23:59:43           1.52     0.0   \n",
       "3  2891681.0              8.0 2017-10-07 00:07:28           3.62     0.0   \n",
       "4  2891716.0              8.0 2017-10-07 00:19:02           4.50     0.0   \n",
       "\n",
       "   numberOfQuestions  increment  progress Position     otx_id_1  \\\n",
       "0               18.0   0.055556       1.0  arutyo6  501854929.0   \n",
       "1               18.0   0.055556       1.0  arutyo6  501854985.0   \n",
       "2               18.0   0.055556       1.0  arutyo6  501855036.0   \n",
       "3               18.0   0.055556       1.0  arutyo6  501855307.0   \n",
       "4               18.0   0.055556       1.0  arutyo6  501855695.0   \n",
       "\n",
       "                                                                                                  ...                                                                                                   \\\n",
       "0                                                                                                 ...                                                                                                    \n",
       "1                                                                                                 ...                                                                                                    \n",
       "2                                                                                                 ...                                                                                                    \n",
       "3                                                                                                 ...                                                                                                    \n",
       "4                                                                                                 ...                                                                                                    \n",
       "\n",
       "   I support a ban on slaughterhouses. (a20sbox)  \\\n",
       "0                                       Disagree   \n",
       "1                              Strongly disagree   \n",
       "2                                 Somewhat agree   \n",
       "3                                     No opinion   \n",
       "4                                       Disagree   \n",
       "\n",
       "   I support a ban on animal farming. (8mjexdf)  \\\n",
       "0                                      Disagree   \n",
       "1                             Strongly disagree   \n",
       "2                             Somewhat disagree   \n",
       "3                             Strongly disagree   \n",
       "4                                      Disagree   \n",
       "\n",
       "  Suppose you were given $10 and allowed to donate any amount of it to an effective non-profit organization that works to help farmed animals, keeping the rest for yourself. How much of this $10 would you donate? (sbzmhrb)  \\\n",
       "0                                                 10                                                                                                                                                                             \n",
       "1                                                  5                                                                                                                                                                             \n",
       "2                                                  3                                                                                                                                                                             \n",
       "3                                                 10                                                                                                                                                                             \n",
       "4                                                  0                                                                                                                                                                             \n",
       "\n",
       "  Suppose a public demonstration against the problems of factory farming occurred near where you live and your friend asked you to come demonstrate with her. If this demonstration fit into your schedule, how likely would you be to join and help demonstrate? (yrd9ug1)  \\\n",
       "0                                    Somewhat likely                                                                                                                                                                                                                          \n",
       "1                                      Very unlikely                                                                                                                                                                                                                          \n",
       "2                                        Very likely                                                                                                                                                                                                                          \n",
       "3                                    Somewhat likely                                                                                                                                                                                                                          \n",
       "4                                      Very unlikely                                                                                                                                                                                                                          \n",
       "\n",
       "  When these foods are the same price as animal-based foods, people should eat more of these foods and fewer animal-based foods. (5yfiuvk)  \\\n",
       "0                                  Somewhat disagree                                                                                         \n",
       "1                                              Agree                                                                                         \n",
       "2                                     Somewhat agree                                                                                         \n",
       "3                                     Somewhat agree                                                                                         \n",
       "4                                           Disagree                                                                                         \n",
       "\n",
       "  When these foods are the same price as animal-based foods, I would prefer to eat more of these foods and fewer animal-based foods. (g9j5zwx)  \\\n",
       "0                                  Somewhat disagree                                                                                             \n",
       "1                                     Strongly agree                                                                                             \n",
       "2                                     Somewhat agree                                                                                             \n",
       "3                                     Somewhat agree                                                                                             \n",
       "4                                  Strongly disagree                                                                                             \n",
       "\n",
       "  When these foods are the same price as animal-based foods, people should eat more of these foods and fewer animal-based foods. (nawdq1n)  \\\n",
       "0                                  Strongly disagree                                                                                         \n",
       "1                                     Strongly agree                                                                                         \n",
       "2                                  Somewhat disagree                                                                                         \n",
       "3                                     Somewhat agree                                                                                         \n",
       "4                                           Disagree                                                                                         \n",
       "\n",
       "  When these foods are the same price as animal-based foods, I would prefer to eat more of these foods and fewer animal-based foods. (88inyp8)  \\\n",
       "0                                  Strongly disagree                                                                                             \n",
       "1                                     Strongly agree                                                                                             \n",
       "2                                           Disagree                                                                                             \n",
       "3                                     Somewhat agree                                                                                             \n",
       "4                                  Strongly disagree                                                                                             \n",
       "\n",
       "  Most farmed animals are treated well. For example, the animals are given enough space and kept in good health. (1uaomy1)  \\\n",
       "0                                     Somewhat agree                                                                         \n",
       "1                                              Agree                                                                         \n",
       "2                                  Strongly disagree                                                                         \n",
       "3                                  Somewhat disagree                                                                         \n",
       "4                                              Agree                                                                         \n",
       "\n",
       "  The animal-based foods I purchase (meat, dairy, and/or eggs) usually come from animals that are treated humanely. For example, the animals are given enough space and kept in good health. (drd18km)  \n",
       "0                                         No opinion                                                                                                                                                    \n",
       "1                                         No opinion                                                                                                                                                    \n",
       "2                                  Somewhat disagree                                                                                                                                                    \n",
       "3                                  Somewhat disagree                                                                                                                                                    \n",
       "4                                              Agree                                                                                                                                                    \n",
       "\n",
       "[5 rows x 34 columns]"
      ]
     },
     "execution_count": 4,
     "metadata": {},
     "output_type": "execute_result"
    }
   ],
   "source": [
    "raw = get_excel_range(input_data, \"Raw\", \"A1:AH1095\")\n",
    "raw.head()"
   ]
  },
  {
   "cell_type": "code",
   "execution_count": 5,
   "metadata": {},
   "outputs": [
    {
     "data": {
      "text/plain": [
       "Index(['Run', 'Program Version', 'Time Started', 'Minutes Spent', 'Points',\n",
       "       'numberOfQuestions', 'increment', 'progress', 'Position', 'otx_id_1',\n",
       "       'otx_id_2', 'Age', 'Gender', 'Region', 'Ethnicity', 'Education',\n",
       "       'Income',\n",
       "       'People should consume fewer animal-based foods (meat, dairy, and/or eggs) and more plant-based foods (fruits, grains, beans, and/or vegetables). (jaocxhv)',\n",
       "       'I am currently trying to consume fewer animal-based foods (meat, dairy, and/or eggs) and more plant-based foods (fruits, grains, beans, and/or vegetables). (8xrlozv)',\n",
       "       'I have some discomfort with the way animals are used in the food industry. (ev1wy8h)',\n",
       "       'Farmed animals have roughly the same ability to feel pain and discomfort as humans. (hiia3w0)',\n",
       "       'Whether to eat animals or be vegetarian is a personal choice, and nobody has the right to tell me which one they think I should do. (saaqnbp)',\n",
       "       'The factory farming of animals is one of the most important social issues in the world today. /(A factory farm is a large industrialized farm, especially one on which a large number of livestock are raised indoors in conditions intended to maximize production at minimal cost.)/ (r1z9y5o)',\n",
       "       'I support a ban on the factory farming of animals. (zc3ae6)',\n",
       "       'I support a ban on slaughterhouses. (a20sbox)',\n",
       "       'I support a ban on animal farming. (8mjexdf)',\n",
       "       'Suppose you were given $10 and allowed to donate any amount of it to an effective non-profit organization that works to help farmed animals, keeping the rest for yourself. How much of this $10 would you donate? (sbzmhrb)',\n",
       "       'Suppose a public demonstration against the problems of factory farming occurred near where you live and your friend asked you to come demonstrate with her. If this demonstration fit into your schedule, how likely would you be to join and help demonstrate? (yrd9ug1)',\n",
       "       'When these foods are the same price as animal-based foods, people should eat more of these foods and fewer animal-based foods. (5yfiuvk)',\n",
       "       'When these foods are the same price as animal-based foods, I would prefer to eat more of these foods and fewer animal-based foods. (g9j5zwx)',\n",
       "       'When these foods are the same price as animal-based foods, people should eat more of these foods and fewer animal-based foods. (nawdq1n)',\n",
       "       'When these foods are the same price as animal-based foods, I would prefer to eat more of these foods and fewer animal-based foods. (88inyp8)',\n",
       "       'Most farmed animals are treated well. For example, the animals are given enough space and kept in good health. (1uaomy1)',\n",
       "       'The animal-based foods I purchase (meat, dairy, and/or eggs) usually come from animals that are treated humanely. For example, the animals are given enough space and kept in good health. (drd18km)'],\n",
       "      dtype='object')"
      ]
     },
     "execution_count": 5,
     "metadata": {},
     "output_type": "execute_result"
    }
   ],
   "source": [
    "# rename column names for readability\n",
    "raw.columns"
   ]
  },
  {
   "cell_type": "code",
   "execution_count": 6,
   "metadata": {},
   "outputs": [
    {
     "data": {
      "text/plain": [
       "Index(['Run', 'Program Version', 'Time Started', 'Minutes Spent', 'Points',\n",
       "       'numberOfQuestions', 'increment', 'progress', 'Position', 'otx_id_1',\n",
       "       'otx_id_2', 'Age', 'Gender', 'Region', 'Ethnicity', 'Education',\n",
       "       'Income', 'q1', 'q2', 'q3', 'q4', 'q5', 'q6', 'q7', 'q8', 'q9', 'q10',\n",
       "       'q11', 'q12', 'q13', 'q14', 'q15', 'q16', 'q17'],\n",
       "      dtype='object')"
      ]
     },
     "execution_count": 6,
     "metadata": {},
     "output_type": "execute_result"
    }
   ],
   "source": [
    "# 1. rename question vars for ease of use. Save the text of the questions in a dictionary somewhere.\n",
    "questions = [\n",
    "    'People should consume fewer animal-based foods (meat, dairy, and/or eggs) and more plant-based foods (fruits, grains, beans, and/or vegetables). (jaocxhv)',\n",
    "    'I am currently trying to consume fewer animal-based foods (meat, dairy, and/or eggs) and more plant-based foods (fruits, grains, beans, and/or vegetables). (8xrlozv)',\n",
    "    'I have some discomfort with the way animals are used in the food industry. (ev1wy8h)',\n",
    "    'Farmed animals have roughly the same ability to feel pain and discomfort as humans. (hiia3w0)',\n",
    "    'Whether to eat animals or be vegetarian is a personal choice, and nobody has the right to tell me which one they think I should do. (saaqnbp)',\n",
    "    'The factory farming of animals is one of the most important social issues in the world today. /(A factory farm is a large industrialized farm, especially one on which a large number of livestock are raised indoors in conditions intended to maximize production at minimal cost.)/ (r1z9y5o)',\n",
    "    'I support a ban on the factory farming of animals. (zc3ae6)',\n",
    "    'I support a ban on slaughterhouses. (a20sbox)',\n",
    "    'I support a ban on animal farming. (8mjexdf)',\n",
    "    'Suppose you were given $10 and allowed to donate any amount of it to an effective non-profit organization that works to help farmed animals, keeping the rest for yourself. How much of this $10 would you donate? (sbzmhrb)',\n",
    "    'Suppose a public demonstration against the problems of factory farming occurred near where you live and your friend asked you to come demonstrate with her. If this demonstration fit into your schedule, how likely would you be to join and help demonstrate? (yrd9ug1)',\n",
    "    'When these foods are the same price as animal-based foods, people should eat more of these foods and fewer animal-based foods. (5yfiuvk)',\n",
    "    'When these foods are the same price as animal-based foods, I would prefer to eat more of these foods and fewer animal-based foods. (g9j5zwx)',\n",
    "    'When these foods are the same price as animal-based foods, people should eat more of these foods and fewer animal-based foods. (nawdq1n)',\n",
    "    'When these foods are the same price as animal-based foods, I would prefer to eat more of these foods and fewer animal-based foods. (88inyp8)',\n",
    "    'Most farmed animals are treated well. For example, the animals are given enough space and kept in good health. (1uaomy1)',\n",
    "    'The animal-based foods I purchase (meat, dairy, and/or eggs) usually come from animals that are treated humanely. For example, the animals are given enough space and kept in good health. (drd18km)'\n",
    "]\n",
    "\n",
    "format_dict = { text: \"q{}\".format(i + 1) for i, text in enumerate(questions) }\n",
    "labels = { \"q{}\".format(i + 1): text for i, text in enumerate(questions) }\n",
    "\n",
    "raw = raw.rename(index=str, columns=format_dict)\n",
    "raw.columns"
   ]
  },
  {
   "cell_type": "code",
   "execution_count": 7,
   "metadata": {},
   "outputs": [
    {
     "data": {
      "text/plain": [
       "Index(['run', 'program_version', 'time_started', 'minutes_spent', 'points',\n",
       "       'number_of_questions', 'increment', 'progress', 'position', 'otx_id_1',\n",
       "       'otx_id_2', 'age', 'gender', 'region', 'ethnicity', 'education',\n",
       "       'income', 'q1', 'q2', 'q3', 'q4', 'q5', 'q6', 'q7', 'q8', 'q9', 'q10',\n",
       "       'q11', 'q12', 'q13', 'q14', 'q15', 'q16', 'q17'],\n",
       "      dtype='object')"
      ]
     },
     "execution_count": 7,
     "metadata": {},
     "output_type": "execute_result"
    }
   ],
   "source": [
    "# 2. Convert all vars to snake case\n",
    "def make_snakecase(text):\n",
    "    remove_spaces = re.sub(\"\\s+\", \"_\", text)\n",
    "    return re.sub('([a-z0-9])([A-Z])', r'\\1_\\2', remove_spaces).lower()\n",
    "\n",
    "raw.columns = map(make_snakecase, raw.columns)\n",
    "raw.columns"
   ]
  },
  {
   "cell_type": "code",
   "execution_count": 8,
   "metadata": {},
   "outputs": [
    {
     "data": {
      "text/html": [
       "<div>\n",
       "<style scoped>\n",
       "    .dataframe tbody tr th:only-of-type {\n",
       "        vertical-align: middle;\n",
       "    }\n",
       "\n",
       "    .dataframe tbody tr th {\n",
       "        vertical-align: top;\n",
       "    }\n",
       "\n",
       "    .dataframe thead th {\n",
       "        text-align: right;\n",
       "    }\n",
       "</style>\n",
       "<table border=\"1\" class=\"dataframe\">\n",
       "  <thead>\n",
       "    <tr style=\"text-align: right;\">\n",
       "      <th></th>\n",
       "      <th>Question Name</th>\n",
       "      <th>Question Text</th>\n",
       "      <th>Data Type</th>\n",
       "      <th>Answer Name</th>\n",
       "      <th>Answer Text</th>\n",
       "    </tr>\n",
       "  </thead>\n",
       "  <tbody>\n",
       "    <tr>\n",
       "      <th>0</th>\n",
       "      <td>AGE</td>\n",
       "      <td>what is your age?</td>\n",
       "      <td>Numeric Text</td>\n",
       "      <td></td>\n",
       "      <td></td>\n",
       "    </tr>\n",
       "    <tr>\n",
       "      <th>1</th>\n",
       "      <td>GENDER</td>\n",
       "      <td>what is your gender?</td>\n",
       "      <td>Single Punch</td>\n",
       "      <td>A1</td>\n",
       "      <td>male</td>\n",
       "    </tr>\n",
       "    <tr>\n",
       "      <th>2</th>\n",
       "      <td>GENDER</td>\n",
       "      <td>what is your gender?</td>\n",
       "      <td>Single Punch</td>\n",
       "      <td>A2</td>\n",
       "      <td>female</td>\n",
       "    </tr>\n",
       "    <tr>\n",
       "      <th>3</th>\n",
       "      <td>REGION</td>\n",
       "      <td>dummy question for zip-region4</td>\n",
       "      <td>Single Punch</td>\n",
       "      <td>A1</td>\n",
       "      <td>northeast</td>\n",
       "    </tr>\n",
       "    <tr>\n",
       "      <th>4</th>\n",
       "      <td>REGION</td>\n",
       "      <td>dummy question for zip-region4</td>\n",
       "      <td>Single Punch</td>\n",
       "      <td>A2</td>\n",
       "      <td>midwest</td>\n",
       "    </tr>\n",
       "  </tbody>\n",
       "</table>\n",
       "</div>"
      ],
      "text/plain": [
       "  Question Name                   Question Text     Data Type Answer Name  \\\n",
       "0           AGE               what is your age?  Numeric Text               \n",
       "1        GENDER            what is your gender?  Single Punch          A1   \n",
       "2        GENDER            what is your gender?  Single Punch          A2   \n",
       "3        REGION  dummy question for zip-region4  Single Punch          A1   \n",
       "4        REGION  dummy question for zip-region4  Single Punch          A2   \n",
       "\n",
       "  Answer Text  \n",
       "0              \n",
       "1        male  \n",
       "2      female  \n",
       "3   northeast  \n",
       "4     midwest  "
      ]
     },
     "execution_count": 8,
     "metadata": {},
     "output_type": "execute_result"
    }
   ],
   "source": [
    "key = get_excel_range(input_data, \"Key\", \"A1:E54\")\n",
    "key.head()"
   ]
  },
  {
   "cell_type": "code",
   "execution_count": 9,
   "metadata": {},
   "outputs": [
    {
     "data": {
      "text/plain": [
       "[(('age', ''), ''),\n",
       " (('gender', 'A1'), 'male'),\n",
       " (('gender', 'A2'), 'female'),\n",
       " (('region', 'A1'), 'northeast'),\n",
       " (('region', 'A2'), 'midwest'),\n",
       " (('region', 'A3'), 'south'),\n",
       " (('region', 'A4'), 'west'),\n",
       " (('ethnicity', 'A1'), 'white or caucasian (not hispanic or latino)'),\n",
       " (('ethnicity', 'A2'), 'black or african-american (not hispanic or latino)'),\n",
       " (('ethnicity', 'A3'), 'asian/pacific islander')]"
      ]
     },
     "execution_count": 9,
     "metadata": {},
     "output_type": "execute_result"
    }
   ],
   "source": [
    "questions = list(map(make_snakecase, key[\"Question Name\"]))\n",
    "values = key[\"Answer Name\"]\n",
    "text = key[\"Answer Text\"]\n",
    "unique_key = zip(questions, values)\n",
    "key_dict = dict(zip(unique_key, text))\n",
    "list(key_dict.items())[:10]"
   ]
  },
  {
   "cell_type": "code",
   "execution_count": 10,
   "metadata": {},
   "outputs": [
    {
     "data": {
      "text/html": [
       "<div>\n",
       "<style scoped>\n",
       "    .dataframe tbody tr th:only-of-type {\n",
       "        vertical-align: middle;\n",
       "    }\n",
       "\n",
       "    .dataframe tbody tr th {\n",
       "        vertical-align: top;\n",
       "    }\n",
       "\n",
       "    .dataframe thead th {\n",
       "        text-align: right;\n",
       "    }\n",
       "</style>\n",
       "<table border=\"1\" class=\"dataframe\">\n",
       "  <thead>\n",
       "    <tr style=\"text-align: right;\">\n",
       "      <th></th>\n",
       "      <th>run</th>\n",
       "      <th>program_version</th>\n",
       "      <th>time_started</th>\n",
       "      <th>minutes_spent</th>\n",
       "      <th>points</th>\n",
       "      <th>number_of_questions</th>\n",
       "      <th>increment</th>\n",
       "      <th>progress</th>\n",
       "      <th>position</th>\n",
       "      <th>otx_id_1</th>\n",
       "      <th>...</th>\n",
       "      <th>q8</th>\n",
       "      <th>q9</th>\n",
       "      <th>q10</th>\n",
       "      <th>q11</th>\n",
       "      <th>q12</th>\n",
       "      <th>q13</th>\n",
       "      <th>q14</th>\n",
       "      <th>q15</th>\n",
       "      <th>q16</th>\n",
       "      <th>q17</th>\n",
       "    </tr>\n",
       "  </thead>\n",
       "  <tbody>\n",
       "    <tr>\n",
       "      <th>0</th>\n",
       "      <td>2891666.0</td>\n",
       "      <td>8.0</td>\n",
       "      <td>2017-10-06 23:53:40</td>\n",
       "      <td>3.97</td>\n",
       "      <td>0.0</td>\n",
       "      <td>18.0</td>\n",
       "      <td>0.055556</td>\n",
       "      <td>1.0</td>\n",
       "      <td>arutyo6</td>\n",
       "      <td>501854929.0</td>\n",
       "      <td>...</td>\n",
       "      <td>Disagree</td>\n",
       "      <td>Disagree</td>\n",
       "      <td>10</td>\n",
       "      <td>Somewhat likely</td>\n",
       "      <td>Somewhat disagree</td>\n",
       "      <td>Somewhat disagree</td>\n",
       "      <td>Strongly disagree</td>\n",
       "      <td>Strongly disagree</td>\n",
       "      <td>Somewhat agree</td>\n",
       "      <td>No opinion</td>\n",
       "    </tr>\n",
       "    <tr>\n",
       "      <th>1</th>\n",
       "      <td>2891675.0</td>\n",
       "      <td>8.0</td>\n",
       "      <td>2017-10-07 00:01:52</td>\n",
       "      <td>7.02</td>\n",
       "      <td>0.0</td>\n",
       "      <td>18.0</td>\n",
       "      <td>0.055556</td>\n",
       "      <td>1.0</td>\n",
       "      <td>arutyo6</td>\n",
       "      <td>501854985.0</td>\n",
       "      <td>...</td>\n",
       "      <td>Strongly disagree</td>\n",
       "      <td>Strongly disagree</td>\n",
       "      <td>5</td>\n",
       "      <td>Very unlikely</td>\n",
       "      <td>Agree</td>\n",
       "      <td>Strongly agree</td>\n",
       "      <td>Strongly agree</td>\n",
       "      <td>Strongly agree</td>\n",
       "      <td>Agree</td>\n",
       "      <td>No opinion</td>\n",
       "    </tr>\n",
       "    <tr>\n",
       "      <th>2</th>\n",
       "      <td>2891670.0</td>\n",
       "      <td>8.0</td>\n",
       "      <td>2017-10-06 23:59:43</td>\n",
       "      <td>1.52</td>\n",
       "      <td>0.0</td>\n",
       "      <td>18.0</td>\n",
       "      <td>0.055556</td>\n",
       "      <td>1.0</td>\n",
       "      <td>arutyo6</td>\n",
       "      <td>501855036.0</td>\n",
       "      <td>...</td>\n",
       "      <td>Somewhat agree</td>\n",
       "      <td>Somewhat disagree</td>\n",
       "      <td>3</td>\n",
       "      <td>Very likely</td>\n",
       "      <td>Somewhat agree</td>\n",
       "      <td>Somewhat agree</td>\n",
       "      <td>Somewhat disagree</td>\n",
       "      <td>Disagree</td>\n",
       "      <td>Strongly disagree</td>\n",
       "      <td>Somewhat disagree</td>\n",
       "    </tr>\n",
       "    <tr>\n",
       "      <th>3</th>\n",
       "      <td>2891681.0</td>\n",
       "      <td>8.0</td>\n",
       "      <td>2017-10-07 00:07:28</td>\n",
       "      <td>3.62</td>\n",
       "      <td>0.0</td>\n",
       "      <td>18.0</td>\n",
       "      <td>0.055556</td>\n",
       "      <td>1.0</td>\n",
       "      <td>arutyo6</td>\n",
       "      <td>501855307.0</td>\n",
       "      <td>...</td>\n",
       "      <td>No opinion</td>\n",
       "      <td>Strongly disagree</td>\n",
       "      <td>10</td>\n",
       "      <td>Somewhat likely</td>\n",
       "      <td>Somewhat agree</td>\n",
       "      <td>Somewhat agree</td>\n",
       "      <td>Somewhat agree</td>\n",
       "      <td>Somewhat agree</td>\n",
       "      <td>Somewhat disagree</td>\n",
       "      <td>Somewhat disagree</td>\n",
       "    </tr>\n",
       "    <tr>\n",
       "      <th>4</th>\n",
       "      <td>2891716.0</td>\n",
       "      <td>8.0</td>\n",
       "      <td>2017-10-07 00:19:02</td>\n",
       "      <td>4.50</td>\n",
       "      <td>0.0</td>\n",
       "      <td>18.0</td>\n",
       "      <td>0.055556</td>\n",
       "      <td>1.0</td>\n",
       "      <td>arutyo6</td>\n",
       "      <td>501855695.0</td>\n",
       "      <td>...</td>\n",
       "      <td>Disagree</td>\n",
       "      <td>Disagree</td>\n",
       "      <td>0</td>\n",
       "      <td>Very unlikely</td>\n",
       "      <td>Disagree</td>\n",
       "      <td>Strongly disagree</td>\n",
       "      <td>Disagree</td>\n",
       "      <td>Strongly disagree</td>\n",
       "      <td>Agree</td>\n",
       "      <td>Agree</td>\n",
       "    </tr>\n",
       "  </tbody>\n",
       "</table>\n",
       "<p>5 rows × 34 columns</p>\n",
       "</div>"
      ],
      "text/plain": [
       "         run  program_version        time_started  minutes_spent  points  \\\n",
       "0  2891666.0              8.0 2017-10-06 23:53:40           3.97     0.0   \n",
       "1  2891675.0              8.0 2017-10-07 00:01:52           7.02     0.0   \n",
       "2  2891670.0              8.0 2017-10-06 23:59:43           1.52     0.0   \n",
       "3  2891681.0              8.0 2017-10-07 00:07:28           3.62     0.0   \n",
       "4  2891716.0              8.0 2017-10-07 00:19:02           4.50     0.0   \n",
       "\n",
       "   number_of_questions  increment  progress position     otx_id_1  \\\n",
       "0                 18.0   0.055556       1.0  arutyo6  501854929.0   \n",
       "1                 18.0   0.055556       1.0  arutyo6  501854985.0   \n",
       "2                 18.0   0.055556       1.0  arutyo6  501855036.0   \n",
       "3                 18.0   0.055556       1.0  arutyo6  501855307.0   \n",
       "4                 18.0   0.055556       1.0  arutyo6  501855695.0   \n",
       "\n",
       "         ...                         q8                 q9 q10  \\\n",
       "0        ...                   Disagree           Disagree  10   \n",
       "1        ...          Strongly disagree  Strongly disagree   5   \n",
       "2        ...             Somewhat agree  Somewhat disagree   3   \n",
       "3        ...                 No opinion  Strongly disagree  10   \n",
       "4        ...                   Disagree           Disagree   0   \n",
       "\n",
       "               q11                q12                q13                q14  \\\n",
       "0  Somewhat likely  Somewhat disagree  Somewhat disagree  Strongly disagree   \n",
       "1    Very unlikely              Agree     Strongly agree     Strongly agree   \n",
       "2      Very likely     Somewhat agree     Somewhat agree  Somewhat disagree   \n",
       "3  Somewhat likely     Somewhat agree     Somewhat agree     Somewhat agree   \n",
       "4    Very unlikely           Disagree  Strongly disagree           Disagree   \n",
       "\n",
       "                 q15                q16                q17  \n",
       "0  Strongly disagree     Somewhat agree         No opinion  \n",
       "1     Strongly agree              Agree         No opinion  \n",
       "2           Disagree  Strongly disagree  Somewhat disagree  \n",
       "3     Somewhat agree  Somewhat disagree  Somewhat disagree  \n",
       "4  Strongly disagree              Agree              Agree  \n",
       "\n",
       "[5 rows x 34 columns]"
      ]
     },
     "execution_count": 10,
     "metadata": {},
     "output_type": "execute_result"
    }
   ],
   "source": [
    "raw.head()"
   ]
  },
  {
   "cell_type": "markdown",
   "metadata": {},
   "source": [
    "#### 2. Weight cleaned dataset"
   ]
  },
  {
   "cell_type": "code",
   "execution_count": 11,
   "metadata": {},
   "outputs": [
    {
     "data": {
      "text/plain": [
       "0    A8\n",
       "1    A5\n",
       "2    A5\n",
       "3    A8\n",
       "4    A6\n",
       "Name: education, dtype: object"
      ]
     },
     "execution_count": 11,
     "metadata": {},
     "output_type": "execute_result"
    }
   ],
   "source": [
    "raw.education.head()"
   ]
  },
  {
   "cell_type": "code",
   "execution_count": 13,
   "metadata": {},
   "outputs": [
    {
     "data": {
      "text/plain": [
       "{1: 'grade 4 or less',\n",
       " 2: 'grade 5 to 8',\n",
       " 3: 'grade 9 to 11',\n",
       " 4: 'grade 12 (no diploma)high school graduate',\n",
       " 5: 'regular high school diploma',\n",
       " 6: 'ged or alternative credentialcollege or some college',\n",
       " 7: 'some college credit, but less than 1 year of college credit',\n",
       " 8: '1 or more years of college credit, no degree',\n",
       " 9: \"associate's degree (for example:  aa, as)\",\n",
       " 10: \"bachelor's degree (for example:  ba, bs) after bachelor's degree\",\n",
       " 11: \"master's degree (for example:  ma, ms, meng, med, mba)\",\n",
       " 12: \"professional degree beyond bachelor's degree (for example:  md, dds, dvm, llb, jd)\",\n",
       " 13: 'doctorate degree (for example:  phd, edd)'}"
      ]
     },
     "execution_count": 13,
     "metadata": {},
     "output_type": "execute_result"
    }
   ],
   "source": [
    "def get_mappings(col_name, val_range):\n",
    "    return {\n",
    "        i: key_dict[(col_name, \"A{}\".format(i))] for i in val_range\n",
    "    }\n",
    "\n",
    "get_mappings(\"education\", range(1, 14))"
   ]
  },
  {
   "cell_type": "code",
   "execution_count": 15,
   "metadata": {},
   "outputs": [
    {
     "data": {
      "text/plain": [
       "0    some_college\n",
       "1            high\n",
       "2            high\n",
       "3    some_college\n",
       "4            high\n",
       "Name: education, dtype: object"
      ]
     },
     "execution_count": 15,
     "metadata": {},
     "output_type": "execute_result"
    }
   ],
   "source": [
    "def convert_educ(val):\n",
    "    test_val = int(val[1])\n",
    "    \n",
    "    if test_val in [1, 2, 3, 4]:\n",
    "        return \"less_than_high\"\n",
    "    elif test_val in [5, 6]:\n",
    "        return \"high\"\n",
    "    elif test_val in [7, 8]:\n",
    "        return \"some_college\"\n",
    "    elif test_val == 9:\n",
    "        return \"associates\"\n",
    "    elif test_val == 10:\n",
    "        return \"college\"\n",
    "    elif test_val in [11, 12, 13]:\n",
    "        return \"post_grad\"\n",
    "\n",
    "raw.educ_flag = raw.education.apply(convert_educ)\n",
    "raw.educ_flag.head()"
   ]
  },
  {
   "cell_type": "code",
   "execution_count": 16,
   "metadata": {},
   "outputs": [
    {
     "data": {
      "text/plain": [
       "0    53.0\n",
       "1    68.0\n",
       "2    18.0\n",
       "3    56.0\n",
       "4    72.0\n",
       "Name: age, dtype: float64"
      ]
     },
     "execution_count": 16,
     "metadata": {},
     "output_type": "execute_result"
    }
   ],
   "source": [
    "raw.age.head()"
   ]
  },
  {
   "cell_type": "code",
   "execution_count": 17,
   "metadata": {},
   "outputs": [
    {
     "data": {
      "text/plain": [
       "0    A2\n",
       "1    A2\n",
       "2    A1\n",
       "3    A2\n",
       "4    A1\n",
       "Name: gender, dtype: object"
      ]
     },
     "execution_count": 17,
     "metadata": {},
     "output_type": "execute_result"
    }
   ],
   "source": [
    "raw.gender.head()"
   ]
  },
  {
   "cell_type": "code",
   "execution_count": 20,
   "metadata": {},
   "outputs": [],
   "source": [
    "gender_mappings = get_mappings(\"gender\", [1, 2])"
   ]
  },
  {
   "cell_type": "code",
   "execution_count": 21,
   "metadata": {},
   "outputs": [
    {
     "data": {
      "text/plain": [
       "0    female\n",
       "1    female\n",
       "2      male\n",
       "3    female\n",
       "4      male\n",
       "Name: gender, dtype: object"
      ]
     },
     "execution_count": 21,
     "metadata": {},
     "output_type": "execute_result"
    }
   ],
   "source": [
    "raw.gender = raw.gender.apply(lambda x: gender_mappings.get(int(x[1])) )\n",
    "raw.gender.head()"
   ]
  },
  {
   "cell_type": "code",
   "execution_count": 22,
   "metadata": {},
   "outputs": [
    {
     "name": "stderr",
     "output_type": "stream",
     "text": [
      "c:\\users\\ali2\\appdata\\local\\programs\\python\\python36\\lib\\site-packages\\ipykernel_launcher.py:18: UserWarning: Pandas doesn't allow columns to be created via a new attribute name - see https://pandas.pydata.org/pandas-docs/stable/indexing.html#attribute-access\n"
     ]
    },
    {
     "data": {
      "text/plain": [
       "0    f35_54\n",
       "1      f55_\n",
       "2    m18_34\n",
       "3      f55_\n",
       "4      m55_\n",
       "dtype: object"
      ]
     },
     "execution_count": 22,
     "metadata": {},
     "output_type": "execute_result"
    }
   ],
   "source": [
    "# hasn't this already been census weighted on age and gender?\n",
    "def convert_sex_age(row):\n",
    "    if row.gender == \"female\":\n",
    "        if row.age < 35.0:\n",
    "            return \"f18_34\"\n",
    "        elif row.age < 55.0:\n",
    "            return \"f35_54\"\n",
    "        elif row.age >= 55.0:\n",
    "            return \"f55_\"\n",
    "    if row.gender == \"male\":\n",
    "        if row.age < 35.0:\n",
    "            return \"m18_34\"\n",
    "        elif row.age < 55.0:\n",
    "            return \"m35_54\"\n",
    "        elif row.age >= 55.0:\n",
    "            return \"m55_\"\n",
    "\n",
    "raw.sex_age = raw.apply(convert_sex_age, axis=1)\n",
    "raw.sex_age.head()"
   ]
  },
  {
   "cell_type": "code",
   "execution_count": 23,
   "metadata": {},
   "outputs": [
    {
     "data": {
      "text/plain": [
       "0    A14\n",
       "1    A10\n",
       "2    A23\n",
       "3    A12\n",
       "4    A17\n",
       "Name: income, dtype: object"
      ]
     },
     "execution_count": 23,
     "metadata": {},
     "output_type": "execute_result"
    }
   ],
   "source": [
    "raw.income.head()"
   ]
  },
  {
   "cell_type": "code",
   "execution_count": 24,
   "metadata": {},
   "outputs": [
    {
     "data": {
      "text/plain": [
       "{1: 'less than $5,000',\n",
       " 2: '$5,000-$9,999',\n",
       " 3: '$10,000-$14,999',\n",
       " 4: '$15,000-$19,999',\n",
       " 5: '$20,000-$24,999',\n",
       " 6: '$25,000-$29,999',\n",
       " 7: '$30,000-$34,999',\n",
       " 8: '$35,000-$39,999',\n",
       " 9: '$40,000-$44,999',\n",
       " 10: '$45,000-$49,999',\n",
       " 11: '$50,000-$54,999',\n",
       " 12: '$55,000-$59,999',\n",
       " 13: '$60,000-$64,999',\n",
       " 14: '$65,000-$69,999',\n",
       " 15: '$70,000-$74,999',\n",
       " 16: '$75,000-$79,999',\n",
       " 17: '$80,000-$89,999',\n",
       " 18: '$90,000-$99,999',\n",
       " 19: '$100,000-$124,999',\n",
       " 20: '$125,000-$149,999',\n",
       " 21: '$150,000-$199,999',\n",
       " 22: '$200,000-$249,999',\n",
       " 23: '$250,000 or more'}"
      ]
     },
     "execution_count": 24,
     "metadata": {},
     "output_type": "execute_result"
    }
   ],
   "source": [
    "get_mappings(\"income\", range(1, 24))"
   ]
  },
  {
   "cell_type": "code",
   "execution_count": 25,
   "metadata": {},
   "outputs": [
    {
     "name": "stderr",
     "output_type": "stream",
     "text": [
      "c:\\users\\ali2\\appdata\\local\\programs\\python\\python36\\lib\\site-packages\\ipykernel_launcher.py:14: UserWarning: Pandas doesn't allow columns to be created via a new attribute name - see https://pandas.pydata.org/pandas-docs/stable/indexing.html#attribute-access\n",
      "  \n"
     ]
    },
    {
     "data": {
      "text/plain": [
       "0    _24999\n",
       "1    _24999\n",
       "2    _24999\n",
       "3    _24999\n",
       "4    _24999\n",
       "Name: income, dtype: object"
      ]
     },
     "execution_count": 25,
     "metadata": {},
     "output_type": "execute_result"
    }
   ],
   "source": [
    "def convert_income(val):\n",
    "    test_val = int(val[1])\n",
    "    if test_val < 6:\n",
    "        return \"_24999\"\n",
    "    elif test_val < 11:\n",
    "        return \"25000_49999\"\n",
    "    elif test_val < 16:\n",
    "        return \"50000_74999\"\n",
    "    elif test_val < 19:\n",
    "        return \"75000_99999\"\n",
    "    elif test_val >= 19:\n",
    "        return \"100000_\"\n",
    "\n",
    "raw.income_flag = raw.income.apply(convert_income)\n",
    "raw.income_flag.head()"
   ]
  },
  {
   "cell_type": "code",
   "execution_count": 33,
   "metadata": {},
   "outputs": [],
   "source": [
    "def get_freq(df=None, colname=None, series_obj=None):\n",
    "    series_obj = series_obj if series_obj is not None else df[colname]\n",
    "    ordered_vals = Counter(series_obj).most_common()\n",
    "    total_weights = sum([tup[1] for tup in ordered_vals])\n",
    "    ordered_freqs = []\n",
    "    for val, amt in ordered_vals:\n",
    "        perc = round(float(amt) / total_weights, 2)\n",
    "        ordered_freqs.append( (val, amt, perc) )\n",
    "    return ordered_freqs"
   ]
  },
  {
   "cell_type": "code",
   "execution_count": 34,
   "metadata": {},
   "outputs": [
    {
     "data": {
      "text/plain": [
       "[('less_than_high', 484, 0.44),\n",
       " ('some_college', 291, 0.27),\n",
       " ('high', 213, 0.19),\n",
       " ('associates', 106, 0.1)]"
      ]
     },
     "execution_count": 34,
     "metadata": {},
     "output_type": "execute_result"
    }
   ],
   "source": [
    "get_freq(series_obj=raw.educ_flag)"
   ]
  },
  {
   "cell_type": "code",
   "execution_count": 35,
   "metadata": {},
   "outputs": [
    {
     "data": {
      "text/plain": [
       "[('f55_', 215, 0.2),\n",
       " ('f35_54', 194, 0.18),\n",
       " ('m35_54', 185, 0.17),\n",
       " ('m55_', 183, 0.17),\n",
       " ('f18_34', 159, 0.15),\n",
       " ('m18_34', 158, 0.14)]"
      ]
     },
     "execution_count": 35,
     "metadata": {},
     "output_type": "execute_result"
    }
   ],
   "source": [
    "get_freq(series_obj=raw.sex_age)"
   ]
  },
  {
   "cell_type": "code",
   "execution_count": 36,
   "metadata": {},
   "outputs": [
    {
     "data": {
      "text/plain": [
       "[('_24999', 901, 0.82), ('25000_49999', 193, 0.18)]"
      ]
     },
     "execution_count": 36,
     "metadata": {},
     "output_type": "execute_result"
    }
   ],
   "source": [
    "get_freq(series_obj=raw.income_flag)"
   ]
  },
  {
   "cell_type": "code",
   "execution_count": null,
   "metadata": {},
   "outputs": [],
   "source": [
    "educ_freqs = [0.112, 0.291, 0.1889, 0.096, 0.202, 0.111]"
   ]
  },
  {
   "cell_type": "code",
   "execution_count": null,
   "metadata": {},
   "outputs": [],
   "source": [
    "get_freq(series_obj=raw.education)"
   ]
  },
  {
   "cell_type": "code",
   "execution_count": null,
   "metadata": {},
   "outputs": [],
   "source": []
  },
  {
   "cell_type": "code",
   "execution_count": null,
   "metadata": {},
   "outputs": [],
   "source": [
    "educ_weights = [0.112, 0.291, 0.1889, 0.096, 0.202, 0.111)]"
   ]
  },
  {
   "cell_type": "code",
   "execution_count": null,
   "metadata": {},
   "outputs": [],
   "source": [
    "\n",
    "\n",
    "get_freq(df=raw, colname=\"points\")"
   ]
  },
  {
   "cell_type": "code",
   "execution_count": null,
   "metadata": {},
   "outputs": [],
   "source": [
    "get_freq(df=raw, colname=\"number_of_questions\")"
   ]
  },
  {
   "cell_type": "code",
   "execution_count": null,
   "metadata": {},
   "outputs": [],
   "source": [
    "get_freq(df=raw, colname=\"progress\")"
   ]
  },
  {
   "cell_type": "code",
   "execution_count": null,
   "metadata": {},
   "outputs": [],
   "source": [
    "raw.columns"
   ]
  },
  {
   "cell_type": "code",
   "execution_count": null,
   "metadata": {},
   "outputs": [],
   "source": [
    "get_freq(df=raw, colname=\"run\")"
   ]
  },
  {
   "cell_type": "code",
   "execution_count": null,
   "metadata": {},
   "outputs": [],
   "source": [
    "sorted(get_freq(series_obj=raw.minutes_spent.apply(lambda x: round(x, 0))))"
   ]
  },
  {
   "cell_type": "code",
   "execution_count": null,
   "metadata": {},
   "outputs": [],
   "source": []
  }
 ],
 "metadata": {
  "kernelspec": {
   "display_name": "Python 3",
   "language": "python",
   "name": "python3"
  },
  "language_info": {
   "codemirror_mode": {
    "name": "ipython",
    "version": 3
   },
   "file_extension": ".py",
   "mimetype": "text/x-python",
   "name": "python",
   "nbconvert_exporter": "python",
   "pygments_lexer": "ipython3",
   "version": "3.6.5"
  }
 },
 "nbformat": 4,
 "nbformat_minor": 2
}
